{
 "cells": [
  {
   "cell_type": "markdown",
   "id": "7131f7b9",
   "metadata": {},
   "source": [
    "Write a program that calculates and displays a person’s body mass index (BMI). The BMI is often\n",
    "used to determine whether a person is overweight or underweight for his or her height. A person’s\n",
    "BMI is calculated with the following formula:\n",
    "**\n",
    "BMI = weight * 703 / height^2\n",
    "**\n",
    "where weight is measured in pounds and height is measured in inches. The program should ask the\n",
    "user to enter his or her weight and height and then display the user’s BMI. The program should\n",
    "also display a message indicating whether the person has optimal weight, is underweight, or is\n",
    "\n",
    "overweight. A person’s weight is considered to be optimal if his or her BMI is between 18.5 and\n",
    "25. If the BMI is less than 18.5, the person is considered to be underweight. If the BMI value is\n",
    "greater than 25, the person is considered to be overweight."
   ]
  },
  {
   "cell_type": "code",
   "execution_count": 8,
   "id": "998d0620",
   "metadata": {},
   "outputs": [
    {
     "name": "stdout",
     "output_type": "stream",
     "text": [
      "Enter Person weight in pounds : 150\n",
      "Enter Person height in inches : 65\n",
      "Body Mass Index (BMI)         : 27.798816568047336\n",
      "This person is overweight\n"
     ]
    }
   ],
   "source": [
    "weight = eval(input(\"Enter Person weight in pounds : \"))\n",
    "height = eval(input(\"Enter Person height in inches : \"))\n",
    "\n",
    "BMI = weight * 783 / height**2\n",
    "print(\"Body Mass Index (BMI)         :\",BMI)\n",
    "\n",
    "if BMI>=18.5 and BMI<=25 :\n",
    "    print(\"This is Optimal\")\n",
    "elif BMI<18.5 :\n",
    "    print(\"This person is underweight\")\n",
    "elif BMI>25 :\n",
    "    print(\"This person is overweight\")\n",
    "    \n",
    "\n"
   ]
  }
 ],
 "metadata": {
  "kernelspec": {
   "display_name": "Python 3",
   "language": "python",
   "name": "python3"
  },
  "language_info": {
   "codemirror_mode": {
    "name": "ipython",
    "version": 3
   },
   "file_extension": ".py",
   "mimetype": "text/x-python",
   "name": "python",
   "nbconvert_exporter": "python",
   "pygments_lexer": "ipython3",
   "version": "3.8.8"
  }
 },
 "nbformat": 4,
 "nbformat_minor": 5
}
