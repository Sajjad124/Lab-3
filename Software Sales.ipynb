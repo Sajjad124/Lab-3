{
 "cells": [
  {
   "cell_type": "markdown",
   "id": "7fc07c72",
   "metadata": {},
   "source": [
    "A software company sells a package that retails for $99. Quantity discounts are given according to\n",
    "the following table:\n",
    "\n",
    "Quantity Discount\n",
    "10–19 10%\n",
    "20–49 20%\n",
    "50–99 30%\n",
    "100 or more 40%\n",
    "\n",
    "Write a program that asks the user to enter the number of packages purchased. The program\n",
    "should then display the amount of the discount (if any) and the total amount of the purchase after\n",
    "the discount.\n",
    "\n"
   ]
  },
  {
   "cell_type": "code",
   "execution_count": 12,
   "id": "974b3bb6",
   "metadata": {},
   "outputs": [
    {
     "name": "stdout",
     "output_type": "stream",
     "text": [
      "Enter no of purchased bags : 100\n",
      "No. of purchased bags        :  100\n",
      "Amount                       :  9900 $\n",
      "Discount amount              :  3960.0 $\n",
      "Amount after 40% dicount     :  5940.0 $\n"
     ]
    }
   ],
   "source": [
    "no_of_purchased_packages = eval(input(\"Enter no of purchased bags : \"))\n",
    "print(\"No. of purchased bags        : \",no_of_purchased_packages)\n",
    "if no_of_purchased_packages>=10 and no_of_purchased_packages<=19 :\n",
    "        \n",
    "        amount = 99*no_of_purchased_packages\n",
    "        print(\"Amount                       : \" , amount,\"$\")\n",
    "        \n",
    "        discount_amount = amount * 10 /100\n",
    "        print(\"Discount amount              : \",discount_amount,\"$\")\n",
    "        \n",
    "        \n",
    "        Total_amount = amount - discount_amount\n",
    "        print(\"Amount after 10% dicount     : \", Total_amount,\"$\")\n",
    "        \n",
    "elif no_of_purchased_packages>=20 and no_of_purchased_packages<=49:\n",
    "        \n",
    "        \n",
    "        amount = 99*no_of_purchased_packages\n",
    "        print(\"Amount                       : \" , amount,\"$\")\n",
    "          \n",
    "        discount_amount = amount * 20 / 100 \n",
    "        print(\"Discount amount              : \",discount_amount,\"$\")\n",
    "        \n",
    "        Total_amount = amount - discount_amount\n",
    "        print(\"Amount after 20% dicount     : \", Total_amount ,\"$\")\n",
    "        \n",
    "elif no_of_purchased_packages>=50 and no_of_purchased_packages<=99:\n",
    "             \n",
    "        amount = 99*no_of_purchased_packages\n",
    "        print(\"Amount                       : \" , amount,\"$\")\n",
    "          \n",
    "        discount_amount = amount * 30 / 100 \n",
    "        print(\"Discount amount              : \",discount_amount,\"$\")\n",
    "        \n",
    "        Total_amount = amount - discount_amount\n",
    "        print(\"Amount after 30% dicount     : \", Total_amount ,\"$\")\n",
    "        \n",
    "elif no_of_purchased_packages>=100 :           \n",
    "        amount = 99*no_of_purchased_packages\n",
    "        print(\"Amount                       : \" , amount,\"$\")\n",
    "          \n",
    "        discount_amount = amount * 40 / 100 \n",
    "        print(\"Discount amount              : \",discount_amount,\"$\")\n",
    "        \n",
    "        Total_amount = amount - discount_amount\n",
    "        print(\"Amount after 40% dicount     : \", Total_amount ,\"$\")\n",
    "\n",
    "        "
   ]
  },
  {
   "cell_type": "code",
   "execution_count": null,
   "id": "a0cf650f",
   "metadata": {},
   "outputs": [],
   "source": []
  }
 ],
 "metadata": {
  "kernelspec": {
   "display_name": "Python 3",
   "language": "python",
   "name": "python3"
  },
  "language_info": {
   "codemirror_mode": {
    "name": "ipython",
    "version": 3
   },
   "file_extension": ".py",
   "mimetype": "text/x-python",
   "name": "python",
   "nbconvert_exporter": "python",
   "pygments_lexer": "ipython3",
   "version": "3.8.8"
  }
 },
 "nbformat": 4,
 "nbformat_minor": 5
}
