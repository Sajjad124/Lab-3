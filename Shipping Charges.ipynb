{
 "cells": [
  {
   "cell_type": "markdown",
   "id": "038f46dc",
   "metadata": {},
   "source": [
    "The Fast Freight Shipping Company charges the following rates:\n",
    "\n",
    "Weight of Package                          Rate per Pound (Dollar)\n",
    "___________________________________________________________________\n",
    "2 pounds or less                           1.50\n",
    "Over 2 pounds but not more than 6 pounds   3.00\n",
    "Over 6 pounds but not more than 10 pounds  4.00\n",
    "Over 10 pounds 4.75\n",
    "\n",
    "Write a program that asks the user to enter the weight of a package and then displays the shipping\n",
    "charges."
   ]
  },
  {
   "cell_type": "code",
   "execution_count": 5,
   "id": "8cdbeb75",
   "metadata": {},
   "outputs": [
    {
     "name": "stdout",
     "output_type": "stream",
     "text": [
      "Enter the weight of the package in pounds : 11\n",
      "Shipping charges :  4.75 £\n"
     ]
    }
   ],
   "source": [
    "package_weight = int(input(\"Enter the weight of the package in pounds : \")) \n",
    "\n",
    "if package_weight <= 2 : \n",
    "    shipping_charges = 1.50 ; \n",
    "    print(\"Shipping charges : \" , shipping_charges , \"£\")\n",
    "    \n",
    "elif package_weight >2 and package_weight <=6:\n",
    "    shipping_charges = 3.00 ; \n",
    "    print(\"Shipping charges : \" , shipping_charges , \"£\")\n",
    "\n",
    "elif package_weight >6 and package_weight <=10:\n",
    "    shipping_charges = 4.00 ; \n",
    "    print(\"Shipping charges : \" , shipping_charges , \"£\")\n",
    "\n",
    "elif package_weight >10 :\n",
    "    shipping_charges = 4.75 ; \n",
    "    print(\"Shipping charges : \" , shipping_charges , \"£\")\n",
    "\n",
    "\n"
   ]
  }
 ],
 "metadata": {
  "kernelspec": {
   "display_name": "Python 3",
   "language": "python",
   "name": "python3"
  },
  "language_info": {
   "codemirror_mode": {
    "name": "ipython",
    "version": 3
   },
   "file_extension": ".py",
   "mimetype": "text/x-python",
   "name": "python",
   "nbconvert_exporter": "python",
   "pygments_lexer": "ipython3",
   "version": "3.8.8"
  }
 },
 "nbformat": 4,
 "nbformat_minor": 5
}
