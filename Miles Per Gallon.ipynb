{
 "cells": [
  {
   "cell_type": "markdown",
   "id": "abc4c112",
   "metadata": {},
   "source": [
    "Drivers are concerned with the mileage obtained by their automobiles. One driver has kept track\n",
    "of several tankfuls of gasoline by recording miles driven and gallons used for each tankful. Develop\n",
    "a sentinel-controlled-repetition script that prompts the user to input the miles driven and gallons\n",
    "used for each tankful. The script should calculate and display the miles per gallon obtained for\n",
    "each tankful. After processing all input information, the script should calculate and display the\n",
    "combined miles per gallon obtained for all tankfuls (that is, total miles driven divided by total\n",
    "gallons used).\n",
    "• Enter the gallons used (-1 to end): 12.8\n",
    "• Enter the miles driven: 287\n",
    "• The miles/gallon for this tank was 22.421875\n",
    "• Enter the gallons used (-1 to end): 10.3\n",
    "• Enter the miles driven: 200\n",
    "• The miles/gallon for this tank was 19.417475\n",
    "• Enter the gallons used (-1 to end): 5"
   ]
  },
  {
   "cell_type": "code",
   "execution_count": 1,
   "id": "290c5941",
   "metadata": {},
   "outputs": [
    {
     "name": "stdout",
     "output_type": "stream",
     "text": [
      "Enter the gallons used (-1 to end): 12.8\n",
      "Enter the miles driven: 287\n",
      "22.421875\n"
     ]
    }
   ],
   "source": [
    "gallons_used = eval(input(\"Enter the gallons used (-1 to end): \"))\n",
    "miles_driven = eval(input(\"Enter the miles driven: \"))\n",
    "miles_per_gallon = miles_driven/gallons_used\n",
    "print(miles_per_gallon)\n"
   ]
  }
 ],
 "metadata": {
  "kernelspec": {
   "display_name": "Python 3",
   "language": "python",
   "name": "python3"
  },
  "language_info": {
   "codemirror_mode": {
    "name": "ipython",
    "version": 3
   },
   "file_extension": ".py",
   "mimetype": "text/x-python",
   "name": "python",
   "nbconvert_exporter": "python",
   "pygments_lexer": "ipython3",
   "version": "3.8.8"
  }
 },
 "nbformat": 4,
 "nbformat_minor": 5
}
