{
 "cells": [
  {
   "cell_type": "markdown",
   "id": "0b9b4e2c",
   "metadata": {},
   "source": [
    "Assume that hot dogs come in packages of 10, and hot dog buns come in packages of 8. Write a\n",
    "program that calculates the number of packages of hot dogs and the number of packages of hot dog\n",
    "buns needed for a cookout, with the minimum amount of leftovers. The program should ask the\n",
    "user for the number of people attending the cookout and the number of hot dogs each person will\n",
    "be given. The program should display the following details: * The minimum number of packages\n",
    "of hot dogs required * The minimum number of packages of hot dog buns required * The number\n",
    "of hot dogs that will be left over * The number of hot dog buns that will be left over"
   ]
  },
  {
   "cell_type": "code",
   "execution_count": null,
   "id": "cd9e4b09",
   "metadata": {},
   "outputs": [],
   "source": [
    "hot_dog_packages =10\n",
    "hot_dog_bun_packages =8\n",
    "\n",
    "num_people      = int(input(\"Enter number of peoples who are coming : \"))\n",
    "per_person_dogs = int(input(\"Enter number of dogs each person want\"))\n",
    "num_of_dogs     = num_people * per_person_dogs\n",
    "\n",
    "if num_of_dogs / hot_dog_package == num_of_dogs//hot_dog_package :\n",
    "    dog_pack_num  = num_of_dogs // hot_dog_packages \n",
    "    left_dogs     = 0\n",
    "else:\n",
    "    dog_pack_num  = num_of_dogs // hot_dog_packages + 1\n",
    "    left_dogs     = hot_dog_packages-num_of_dogs%hot_dog_packages\n",
    "    \n",
    "if num_of_dogs / hot_dog_bun_packages == num_of_dogs//hot_dog_bun_packages :\n",
    "    bun_pack_num  = num_of_dogs // hot_dog_bun_packages\n",
    "    left_buns     = 0\n",
    "else:\n",
    "    bun_pack_num  = num_of_dogs // hot_dog_bun_packages + 1\n",
    "    left_dogs     = hot_dog_bun_packages-num_of_dogs%hot_dog_bun_packages\n",
    "    \n",
    "    print(\"Minimum number of hot dogs pack     : \",dog_pack_num )\n",
    "    print(\"Minimum number of hot dogs bun pack : \",bun_pack_num )\n",
    "    print(\"Left dogs pack                      : \",left_dogs    )\n",
    "    print(\"Left dogs bun pack                  : \",left_buns    )\n",
    "    \n",
    "    \n",
    "    \n"
   ]
  }
 ],
 "metadata": {
  "kernelspec": {
   "display_name": "Python 3",
   "language": "python",
   "name": "python3"
  },
  "language_info": {
   "codemirror_mode": {
    "name": "ipython",
    "version": 3
   },
   "file_extension": ".py",
   "mimetype": "text/x-python",
   "name": "python",
   "nbconvert_exporter": "python",
   "pygments_lexer": "ipython3",
   "version": "3.8.8"
  }
 },
 "nbformat": 4,
 "nbformat_minor": 5
}
